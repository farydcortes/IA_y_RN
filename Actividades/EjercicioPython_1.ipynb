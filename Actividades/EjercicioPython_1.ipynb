{
  "nbformat": 4,
  "nbformat_minor": 0,
  "metadata": {
    "colab": {
      "provenance": []
    },
    "kernelspec": {
      "name": "python3",
      "display_name": "Python 3"
    },
    "language_info": {
      "name": "python"
    }
  },
  "cells": [
    {
      "cell_type": "code",
      "execution_count": 24,
      "metadata": {
        "colab": {
          "base_uri": "https://localhost:8080/"
        },
        "id": "j66SIpQXL7BB",
        "outputId": "7390b916-1000-4712-8b17-8e9440020c12"
      },
      "outputs": [
        {
          "output_type": "stream",
          "name": "stdout",
          "text": [
            "Ingrese su nombre: PEDRO\n",
            "Lo siento bro no saludo a fimeños\n"
          ]
        }
      ],
      "source": [
        "nombre = input(\"Ingrese su nombre: \") # Pedimos al usuario que ingrese su nombre\n",
        "\n",
        "if nombre.lower() in ['ana', 'juan', 'pedro']: # Si el nombre es \"Ana\", \"Juan\" o \"Pedro\" no se saludara, se usa lower para simplificar la comparacion de nombres (cambiandolos a minusculas)\n",
        "    print(\"Lo siento bro no saludo a fimeños\") \n",
        "else:\n",
        "    print(\"que onda, \" + nombre + \" como andas\") # Saludamos"
      ]
    },
    {
      "cell_type": "code",
      "source": [
        "Elem = input(\"Elemetos de la lista separado en comas: \")\n",
        "lista = Elem.split(\",\")\n",
        "lista.reverse()\n",
        "print(\"La lista invertida es:\", lista)"
      ],
      "metadata": {
        "colab": {
          "base_uri": "https://localhost:8080/"
        },
        "id": "EnONxA9UOO_D",
        "outputId": "e3303d7c-46c8-4ce9-e0d9-de49357fc0cd"
      },
      "execution_count": 21,
      "outputs": [
        {
          "output_type": "stream",
          "name": "stdout",
          "text": [
            "Elemetos de la lista separado en comas: hola, que, tal, estan\n",
            "La lista invertida es: [' estan', ' tal', ' que', 'hola']\n"
          ]
        }
      ]
    },
    {
      "cell_type": "code",
      "source": [
        "N = int(input(\"¿Que cantidad de numeros en la serie de fibonacci deseas? \"))\n",
        "\n",
        "x = 0\n",
        "y = 1\n",
        "\n",
        "print(\"Aqui tienes los primeros\", N, \"números de la serie de Fibonacci:\")\n",
        "for i in range(N):\n",
        "    print(y)\n",
        "    n = x + y\n",
        "    x = y\n",
        "    y = n\n",
        "    \n"
      ],
      "metadata": {
        "colab": {
          "base_uri": "https://localhost:8080/"
        },
        "id": "EUdDhvwGOPQX",
        "outputId": "d80723d2-952c-4710-8f29-5fe84f58b1b6"
      },
      "execution_count": 20,
      "outputs": [
        {
          "output_type": "stream",
          "name": "stdout",
          "text": [
            "¿Que cantidad de numeros en la serie de fibonacci deseas? 9\n",
            "Aqui tienes los primeros 9 números de la serie de Fibonacci:\n",
            "1\n",
            "1\n",
            "2\n",
            "3\n",
            "5\n",
            "8\n",
            "13\n",
            "21\n",
            "34\n"
          ]
        }
      ]
    }
  ]
}